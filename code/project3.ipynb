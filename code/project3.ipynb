{
 "cells": [
  {
   "cell_type": "code",
   "execution_count": 1,
   "metadata": {},
   "outputs": [],
   "source": [
    "import numpy as np\n",
    "import pandas as pd\n",
    "import seaborn as sns\n",
    "import matplotlib.pyplot as plt\n",
    "import datetime"
   ]
  },
  {
   "cell_type": "code",
   "execution_count": 2,
   "metadata": {},
   "outputs": [],
   "source": [
    "pd.set_option('display.max_columns', None)\n",
    "pd.set_option('display.max_rows', None)"
   ]
  },
  {
   "cell_type": "code",
   "execution_count": 3,
   "metadata": {},
   "outputs": [],
   "source": [
    "dataku = pd.read_csv('marketing_campaign_data.csv')"
   ]
  },
  {
   "cell_type": "code",
   "execution_count": 4,
   "metadata": {},
   "outputs": [],
   "source": [
    "data = dataku.copy()"
   ]
  },
  {
   "cell_type": "code",
   "execution_count": 5,
   "metadata": {},
   "outputs": [
    {
     "data": {
      "text/html": [
       "<div>\n",
       "<style scoped>\n",
       "    .dataframe tbody tr th:only-of-type {\n",
       "        vertical-align: middle;\n",
       "    }\n",
       "\n",
       "    .dataframe tbody tr th {\n",
       "        vertical-align: top;\n",
       "    }\n",
       "\n",
       "    .dataframe thead th {\n",
       "        text-align: right;\n",
       "    }\n",
       "</style>\n",
       "<table border=\"1\" class=\"dataframe\">\n",
       "  <thead>\n",
       "    <tr style=\"text-align: right;\">\n",
       "      <th></th>\n",
       "      <th>Unnamed: 0</th>\n",
       "      <th>ID</th>\n",
       "      <th>Year_Birth</th>\n",
       "      <th>Education</th>\n",
       "      <th>Marital_Status</th>\n",
       "      <th>Income</th>\n",
       "      <th>Kidhome</th>\n",
       "      <th>Teenhome</th>\n",
       "      <th>Dt_Customer</th>\n",
       "      <th>Recency</th>\n",
       "      <th>MntCoke</th>\n",
       "      <th>MntFruits</th>\n",
       "      <th>MntMeatProducts</th>\n",
       "      <th>MntFishProducts</th>\n",
       "      <th>MntSweetProducts</th>\n",
       "      <th>MntGoldProds</th>\n",
       "      <th>NumDealsPurchases</th>\n",
       "      <th>NumWebPurchases</th>\n",
       "      <th>NumCatalogPurchases</th>\n",
       "      <th>NumStorePurchases</th>\n",
       "      <th>NumWebVisitsMonth</th>\n",
       "      <th>AcceptedCmp3</th>\n",
       "      <th>AcceptedCmp4</th>\n",
       "      <th>AcceptedCmp5</th>\n",
       "      <th>AcceptedCmp1</th>\n",
       "      <th>AcceptedCmp2</th>\n",
       "      <th>Complain</th>\n",
       "      <th>Z_CostContact</th>\n",
       "      <th>Z_Revenue</th>\n",
       "      <th>Response</th>\n",
       "    </tr>\n",
       "  </thead>\n",
       "  <tbody>\n",
       "    <tr>\n",
       "      <th>0</th>\n",
       "      <td>0</td>\n",
       "      <td>5524</td>\n",
       "      <td>1957</td>\n",
       "      <td>S1</td>\n",
       "      <td>Lajang</td>\n",
       "      <td>58138000.0</td>\n",
       "      <td>0</td>\n",
       "      <td>0</td>\n",
       "      <td>04-09-2012</td>\n",
       "      <td>58</td>\n",
       "      <td>635000</td>\n",
       "      <td>88000</td>\n",
       "      <td>546000</td>\n",
       "      <td>172000</td>\n",
       "      <td>88000</td>\n",
       "      <td>88000</td>\n",
       "      <td>3</td>\n",
       "      <td>8</td>\n",
       "      <td>10</td>\n",
       "      <td>4</td>\n",
       "      <td>7</td>\n",
       "      <td>0</td>\n",
       "      <td>0</td>\n",
       "      <td>0</td>\n",
       "      <td>0</td>\n",
       "      <td>0</td>\n",
       "      <td>0</td>\n",
       "      <td>3</td>\n",
       "      <td>11</td>\n",
       "      <td>1</td>\n",
       "    </tr>\n",
       "    <tr>\n",
       "      <th>1</th>\n",
       "      <td>1</td>\n",
       "      <td>2174</td>\n",
       "      <td>1954</td>\n",
       "      <td>S1</td>\n",
       "      <td>Lajang</td>\n",
       "      <td>46344000.0</td>\n",
       "      <td>1</td>\n",
       "      <td>1</td>\n",
       "      <td>08-03-2014</td>\n",
       "      <td>38</td>\n",
       "      <td>11000</td>\n",
       "      <td>1000</td>\n",
       "      <td>6000</td>\n",
       "      <td>2000</td>\n",
       "      <td>1000</td>\n",
       "      <td>6000</td>\n",
       "      <td>2</td>\n",
       "      <td>1</td>\n",
       "      <td>1</td>\n",
       "      <td>2</td>\n",
       "      <td>5</td>\n",
       "      <td>0</td>\n",
       "      <td>0</td>\n",
       "      <td>0</td>\n",
       "      <td>0</td>\n",
       "      <td>0</td>\n",
       "      <td>0</td>\n",
       "      <td>3</td>\n",
       "      <td>11</td>\n",
       "      <td>0</td>\n",
       "    </tr>\n",
       "    <tr>\n",
       "      <th>2</th>\n",
       "      <td>2</td>\n",
       "      <td>4141</td>\n",
       "      <td>1965</td>\n",
       "      <td>S1</td>\n",
       "      <td>Bertunangan</td>\n",
       "      <td>71613000.0</td>\n",
       "      <td>0</td>\n",
       "      <td>0</td>\n",
       "      <td>21-08-2013</td>\n",
       "      <td>26</td>\n",
       "      <td>426000</td>\n",
       "      <td>49000</td>\n",
       "      <td>127000</td>\n",
       "      <td>111000</td>\n",
       "      <td>21000</td>\n",
       "      <td>42000</td>\n",
       "      <td>1</td>\n",
       "      <td>8</td>\n",
       "      <td>2</td>\n",
       "      <td>10</td>\n",
       "      <td>4</td>\n",
       "      <td>0</td>\n",
       "      <td>0</td>\n",
       "      <td>0</td>\n",
       "      <td>0</td>\n",
       "      <td>0</td>\n",
       "      <td>0</td>\n",
       "      <td>3</td>\n",
       "      <td>11</td>\n",
       "      <td>0</td>\n",
       "    </tr>\n",
       "    <tr>\n",
       "      <th>3</th>\n",
       "      <td>3</td>\n",
       "      <td>6182</td>\n",
       "      <td>1984</td>\n",
       "      <td>S1</td>\n",
       "      <td>Bertunangan</td>\n",
       "      <td>26646000.0</td>\n",
       "      <td>1</td>\n",
       "      <td>0</td>\n",
       "      <td>10-02-2014</td>\n",
       "      <td>26</td>\n",
       "      <td>11000</td>\n",
       "      <td>4000</td>\n",
       "      <td>20000</td>\n",
       "      <td>10000</td>\n",
       "      <td>3000</td>\n",
       "      <td>5000</td>\n",
       "      <td>2</td>\n",
       "      <td>2</td>\n",
       "      <td>0</td>\n",
       "      <td>4</td>\n",
       "      <td>6</td>\n",
       "      <td>0</td>\n",
       "      <td>0</td>\n",
       "      <td>0</td>\n",
       "      <td>0</td>\n",
       "      <td>0</td>\n",
       "      <td>0</td>\n",
       "      <td>3</td>\n",
       "      <td>11</td>\n",
       "      <td>0</td>\n",
       "    </tr>\n",
       "    <tr>\n",
       "      <th>4</th>\n",
       "      <td>4</td>\n",
       "      <td>5324</td>\n",
       "      <td>1981</td>\n",
       "      <td>S3</td>\n",
       "      <td>Menikah</td>\n",
       "      <td>58293000.0</td>\n",
       "      <td>1</td>\n",
       "      <td>0</td>\n",
       "      <td>19-01-2014</td>\n",
       "      <td>94</td>\n",
       "      <td>173000</td>\n",
       "      <td>43000</td>\n",
       "      <td>118000</td>\n",
       "      <td>46000</td>\n",
       "      <td>27000</td>\n",
       "      <td>15000</td>\n",
       "      <td>5</td>\n",
       "      <td>5</td>\n",
       "      <td>3</td>\n",
       "      <td>6</td>\n",
       "      <td>5</td>\n",
       "      <td>0</td>\n",
       "      <td>0</td>\n",
       "      <td>0</td>\n",
       "      <td>0</td>\n",
       "      <td>0</td>\n",
       "      <td>0</td>\n",
       "      <td>3</td>\n",
       "      <td>11</td>\n",
       "      <td>0</td>\n",
       "    </tr>\n",
       "  </tbody>\n",
       "</table>\n",
       "</div>"
      ],
      "text/plain": [
       "   Unnamed: 0    ID  Year_Birth Education Marital_Status      Income  Kidhome  \\\n",
       "0           0  5524        1957        S1         Lajang  58138000.0        0   \n",
       "1           1  2174        1954        S1         Lajang  46344000.0        1   \n",
       "2           2  4141        1965        S1    Bertunangan  71613000.0        0   \n",
       "3           3  6182        1984        S1    Bertunangan  26646000.0        1   \n",
       "4           4  5324        1981        S3        Menikah  58293000.0        1   \n",
       "\n",
       "   Teenhome Dt_Customer  Recency  MntCoke  MntFruits  MntMeatProducts  \\\n",
       "0         0  04-09-2012       58   635000      88000           546000   \n",
       "1         1  08-03-2014       38    11000       1000             6000   \n",
       "2         0  21-08-2013       26   426000      49000           127000   \n",
       "3         0  10-02-2014       26    11000       4000            20000   \n",
       "4         0  19-01-2014       94   173000      43000           118000   \n",
       "\n",
       "   MntFishProducts  MntSweetProducts  MntGoldProds  NumDealsPurchases  \\\n",
       "0           172000             88000         88000                  3   \n",
       "1             2000              1000          6000                  2   \n",
       "2           111000             21000         42000                  1   \n",
       "3            10000              3000          5000                  2   \n",
       "4            46000             27000         15000                  5   \n",
       "\n",
       "   NumWebPurchases  NumCatalogPurchases  NumStorePurchases  NumWebVisitsMonth  \\\n",
       "0                8                   10                  4                  7   \n",
       "1                1                    1                  2                  5   \n",
       "2                8                    2                 10                  4   \n",
       "3                2                    0                  4                  6   \n",
       "4                5                    3                  6                  5   \n",
       "\n",
       "   AcceptedCmp3  AcceptedCmp4  AcceptedCmp5  AcceptedCmp1  AcceptedCmp2  \\\n",
       "0             0             0             0             0             0   \n",
       "1             0             0             0             0             0   \n",
       "2             0             0             0             0             0   \n",
       "3             0             0             0             0             0   \n",
       "4             0             0             0             0             0   \n",
       "\n",
       "   Complain  Z_CostContact  Z_Revenue  Response  \n",
       "0         0              3         11         1  \n",
       "1         0              3         11         0  \n",
       "2         0              3         11         0  \n",
       "3         0              3         11         0  \n",
       "4         0              3         11         0  "
      ]
     },
     "execution_count": 5,
     "metadata": {},
     "output_type": "execute_result"
    }
   ],
   "source": [
    "data.head(5)"
   ]
  },
  {
   "cell_type": "code",
   "execution_count": 6,
   "metadata": {},
   "outputs": [
    {
     "data": {
      "text/plain": [
       "(2240, 30)"
      ]
     },
     "execution_count": 6,
     "metadata": {},
     "output_type": "execute_result"
    }
   ],
   "source": [
    "data.shape"
   ]
  },
  {
   "cell_type": "code",
   "execution_count": 7,
   "metadata": {},
   "outputs": [
    {
     "name": "stdout",
     "output_type": "stream",
     "text": [
      "<class 'pandas.core.frame.DataFrame'>\n",
      "RangeIndex: 2240 entries, 0 to 2239\n",
      "Data columns (total 30 columns):\n",
      " #   Column               Non-Null Count  Dtype  \n",
      "---  ------               --------------  -----  \n",
      " 0   Unnamed: 0           2240 non-null   int64  \n",
      " 1   ID                   2240 non-null   int64  \n",
      " 2   Year_Birth           2240 non-null   int64  \n",
      " 3   Education            2240 non-null   object \n",
      " 4   Marital_Status       2240 non-null   object \n",
      " 5   Income               2216 non-null   float64\n",
      " 6   Kidhome              2240 non-null   int64  \n",
      " 7   Teenhome             2240 non-null   int64  \n",
      " 8   Dt_Customer          2240 non-null   object \n",
      " 9   Recency              2240 non-null   int64  \n",
      " 10  MntCoke              2240 non-null   int64  \n",
      " 11  MntFruits            2240 non-null   int64  \n",
      " 12  MntMeatProducts      2240 non-null   int64  \n",
      " 13  MntFishProducts      2240 non-null   int64  \n",
      " 14  MntSweetProducts     2240 non-null   int64  \n",
      " 15  MntGoldProds         2240 non-null   int64  \n",
      " 16  NumDealsPurchases    2240 non-null   int64  \n",
      " 17  NumWebPurchases      2240 non-null   int64  \n",
      " 18  NumCatalogPurchases  2240 non-null   int64  \n",
      " 19  NumStorePurchases    2240 non-null   int64  \n",
      " 20  NumWebVisitsMonth    2240 non-null   int64  \n",
      " 21  AcceptedCmp3         2240 non-null   int64  \n",
      " 22  AcceptedCmp4         2240 non-null   int64  \n",
      " 23  AcceptedCmp5         2240 non-null   int64  \n",
      " 24  AcceptedCmp1         2240 non-null   int64  \n",
      " 25  AcceptedCmp2         2240 non-null   int64  \n",
      " 26  Complain             2240 non-null   int64  \n",
      " 27  Z_CostContact        2240 non-null   int64  \n",
      " 28  Z_Revenue            2240 non-null   int64  \n",
      " 29  Response             2240 non-null   int64  \n",
      "dtypes: float64(1), int64(26), object(3)\n",
      "memory usage: 525.1+ KB\n"
     ]
    }
   ],
   "source": [
    "data.info()"
   ]
  },
  {
   "cell_type": "code",
   "execution_count": 150,
   "metadata": {},
   "outputs": [],
   "source": [
    "data = dataku.copy()"
   ]
  },
  {
   "cell_type": "code",
   "execution_count": 151,
   "metadata": {},
   "outputs": [
    {
     "data": {
      "text/plain": [
       "2013    1189\n",
       "2014     557\n",
       "2012     494\n",
       "Name: Dt_Customer, dtype: int64"
      ]
     },
     "execution_count": 151,
     "metadata": {},
     "output_type": "execute_result"
    }
   ],
   "source": [
    "data['Dt_Customer'] = data['Dt_Customer'].apply(lambda x : x.split('-')[-1])\n",
    "data['Dt_Customer'].value_counts()"
   ]
  },
  {
   "cell_type": "code",
   "execution_count": 152,
   "metadata": {},
   "outputs": [],
   "source": [
    "data['Age'] = data['Dt_Customer'].astype(int) - data['Year_Birth']"
   ]
  },
  {
   "cell_type": "code",
   "execution_count": 153,
   "metadata": {},
   "outputs": [],
   "source": [
    "data = data.drop(['Unnamed: 0', 'Dt_Customer', 'Year_Birth'], axis=1)"
   ]
  },
  {
   "cell_type": "code",
   "execution_count": 154,
   "metadata": {},
   "outputs": [],
   "source": [
    "data = data[data['NumWebVisitsMonth'] > 0]"
   ]
  },
  {
   "cell_type": "code",
   "execution_count": 155,
   "metadata": {},
   "outputs": [
    {
     "data": {
      "text/plain": [
       "(2229, 28)"
      ]
     },
     "execution_count": 155,
     "metadata": {},
     "output_type": "execute_result"
    }
   ],
   "source": [
    "data.shape"
   ]
  },
  {
   "cell_type": "code",
   "execution_count": 156,
   "metadata": {},
   "outputs": [
    {
     "data": {
      "text/plain": [
       "0    1895\n",
       "1     334\n",
       "Name: Response, dtype: int64"
      ]
     },
     "execution_count": 156,
     "metadata": {},
     "output_type": "execute_result"
    }
   ],
   "source": [
    "data['Response'].value_counts()"
   ]
  },
  {
   "cell_type": "code",
   "execution_count": 157,
   "metadata": {},
   "outputs": [],
   "source": [
    "data['Age'] = data['Age'].apply(lambda x : 'Young' if x < 25 else ('Adult' if x < 60 else 'Senior'))\n",
    "# we choose 30 as young threshold because 30 is well known for life stage transition\n",
    "# in terms of e-commerce, under 30 has more buying power than under 25 so that campaign is more likely to be success "
   ]
  },
  {
   "cell_type": "code",
   "execution_count": 158,
   "metadata": {},
   "outputs": [
    {
     "data": {
      "text/html": [
       "<div>\n",
       "<style scoped>\n",
       "    .dataframe tbody tr th:only-of-type {\n",
       "        vertical-align: middle;\n",
       "    }\n",
       "\n",
       "    .dataframe tbody tr th {\n",
       "        vertical-align: top;\n",
       "    }\n",
       "\n",
       "    .dataframe thead th {\n",
       "        text-align: right;\n",
       "    }\n",
       "</style>\n",
       "<table border=\"1\" class=\"dataframe\">\n",
       "  <thead>\n",
       "    <tr style=\"text-align: right;\">\n",
       "      <th></th>\n",
       "      <th>Age</th>\n",
       "      <th>NumWebVisitsMonth</th>\n",
       "      <th>Conversion Rate</th>\n",
       "    </tr>\n",
       "  </thead>\n",
       "  <tbody>\n",
       "    <tr>\n",
       "      <th>2</th>\n",
       "      <td>Young</td>\n",
       "      <td>14</td>\n",
       "      <td>15.730337</td>\n",
       "    </tr>\n",
       "    <tr>\n",
       "      <th>0</th>\n",
       "      <td>Adult</td>\n",
       "      <td>277</td>\n",
       "      <td>14.844587</td>\n",
       "    </tr>\n",
       "    <tr>\n",
       "      <th>1</th>\n",
       "      <td>Senior</td>\n",
       "      <td>43</td>\n",
       "      <td>15.693431</td>\n",
       "    </tr>\n",
       "  </tbody>\n",
       "</table>\n",
       "</div>"
      ],
      "text/plain": [
       "      Age  NumWebVisitsMonth  Conversion Rate\n",
       "2   Young                 14        15.730337\n",
       "0   Adult                277        14.844587\n",
       "1  Senior                 43        15.693431"
      ]
     },
     "execution_count": 158,
     "metadata": {},
     "output_type": "execute_result"
    }
   ],
   "source": [
    "cr0 = data[data['Response']==0].groupby(['Age']).aggregate({'NumWebVisitsMonth' :'count'}).reset_index()\n",
    "cr1 = data[data['Response']==1].groupby(['Age']).aggregate({'NumWebVisitsMonth' :'count'}).reset_index()\n",
    "cr1['Conversion Rate'] = cr1['NumWebVisitsMonth'] / (cr0['NumWebVisitsMonth'] + cr1['NumWebVisitsMonth']) * 100\n",
    "cr1['Age'] = pd.Categorical(cr1['Age'], categories=['Young', 'Adult', 'Senior'])\n",
    "cr1 = cr1.sort_values('Age')\n",
    "cr1"
   ]
  },
  {
   "cell_type": "code",
   "execution_count": 159,
   "metadata": {},
   "outputs": [
    {
     "data": {
      "image/png": "[encoded data removed]",
      "text/plain": [
       "<Figure size 1200x600 with 1 Axes>"
      ]
     },
     "metadata": {},
     "output_type": "display_data"
    }
   ],
   "source": [
    "plt.figure(figsize=(12,6))\n",
    "ax = sns.barplot(x = 'Age', y = 'Conversion Rate', data = cr1, palette='viridis')\n",
    "plt.title('Conversion Rate Based On Age', weight='bold', fontsize=20)\n",
    "plt.xlabel('Age Group', fontsize=12, weight='bold')\n",
    "plt.ylabel('Conversion Rate', fontsize=12, weight='bold')\n",
    "plt.ylim(0, 20)\n",
    "plt.xticks(fontsize=10)\n",
    "plt.yticks(fontsize=10)\n",
    "plt.grid(axis='y', linestyle='--')\n",
    "plt.bar_label(ax.containers[0], fmt='%.2f%%')\n",
    "plt.show()"
   ]
  },
  {
   "attachments": {},
   "cell_type": "markdown",
   "metadata": {},
   "source": [
    "based on the analysis, all group have relative low conversion rates. it indicates that the existing strategies are not that impactful. this is either because of missaligned marketing or bad website experience. to solve it, we should:\n",
    "\n",
    "1. improve UI UX design and try to implementing A/B testing to ensure a positive website experience.\n",
    "2. retargeting strategies to ensure that that is align with customer preference.\n",
    "3. young is a potential customer, try to add gamification purchase."
   ]
  },
  {
   "cell_type": "code",
   "execution_count": 164,
   "metadata": {},
   "outputs": [],
   "source": [
    "campaign = data[['ID', 'Age', 'AcceptedCmp1', 'AcceptedCmp2', 'AcceptedCmp3', 'AcceptedCmp4', 'AcceptedCmp5', 'Response']]"
   ]
  },
  {
   "cell_type": "code",
   "execution_count": 165,
   "metadata": {},
   "outputs": [],
   "source": [
    "young             = campaign[campaign['Age']=='Young']\n",
    "adult             = campaign[campaign['Age']=='Adult']\n",
    "senior            = campaign[campaign['Age']=='Senior']\n",
    "young_acceptcamp  = young[(young['Response'] == 1) & ((young['AcceptedCmp1'] == 1) | (young['AcceptedCmp2'] == 1) | (young['AcceptedCmp3'] == 1) | (young['AcceptedCmp4'] == 1) | (young['AcceptedCmp5'] == 1))]\n",
    "adult_acceptcamp  = adult[(adult['Response'] == 1) & ((adult['AcceptedCmp1'] == 1) | (adult['AcceptedCmp2'] == 1) | (adult['AcceptedCmp3'] == 1) | (adult['AcceptedCmp4'] == 1) | (adult['AcceptedCmp5'] == 1))]\n",
    "senior_acceptcamp = senior[(senior['Response'] == 1) & ((senior['AcceptedCmp1'] == 1) | (senior['AcceptedCmp2'] == 1) | (senior['AcceptedCmp3'] == 1) | (senior['AcceptedCmp4'] == 1) | (senior['AcceptedCmp5'] == 1))]"
   ]
  },
  {
   "cell_type": "code",
   "execution_count": 166,
   "metadata": {},
   "outputs": [],
   "source": [
    "\n",
    "young_camp  = young[((young['AcceptedCmp1'] == 1) | (young['AcceptedCmp2'] == 1) | (young['AcceptedCmp3'] == 1) | (young['AcceptedCmp4'] == 1) | (young['AcceptedCmp5'] == 1))]\n",
    "adult_camp  = adult[((adult['AcceptedCmp1'] == 1) | (adult['AcceptedCmp2'] == 1) | (adult['AcceptedCmp3'] == 1) | (adult['AcceptedCmp4'] == 1) | (adult['AcceptedCmp5'] == 1))]\n",
    "senior_camp = senior[((senior['AcceptedCmp1'] == 1) | (senior['AcceptedCmp2'] == 1) | (senior['AcceptedCmp3'] == 1) | (senior['AcceptedCmp4'] == 1) | (senior['AcceptedCmp5'] == 1))]"
   ]
  },
  {
   "cell_type": "code",
   "execution_count": 167,
   "metadata": {},
   "outputs": [
    {
     "data": {
      "text/html": [
       "<div>\n",
       "<style scoped>\n",
       "    .dataframe tbody tr th:only-of-type {\n",
       "        vertical-align: middle;\n",
       "    }\n",
       "\n",
       "    .dataframe tbody tr th {\n",
       "        vertical-align: top;\n",
       "    }\n",
       "\n",
       "    .dataframe thead th {\n",
       "        text-align: right;\n",
       "    }\n",
       "</style>\n",
       "<table border=\"1\" class=\"dataframe\">\n",
       "  <thead>\n",
       "    <tr style=\"text-align: right;\">\n",
       "      <th></th>\n",
       "      <th>Age</th>\n",
       "      <th>Conversion Rate</th>\n",
       "    </tr>\n",
       "  </thead>\n",
       "  <tbody>\n",
       "    <tr>\n",
       "      <th>0</th>\n",
       "      <td>Young</td>\n",
       "      <td>54.545455</td>\n",
       "    </tr>\n",
       "    <tr>\n",
       "      <th>1</th>\n",
       "      <td>Adult</td>\n",
       "      <td>40.214477</td>\n",
       "    </tr>\n",
       "    <tr>\n",
       "      <th>2</th>\n",
       "      <td>Senior</td>\n",
       "      <td>38.805970</td>\n",
       "    </tr>\n",
       "  </tbody>\n",
       "</table>\n",
       "</div>"
      ],
      "text/plain": [
       "      Age  Conversion Rate\n",
       "0   Young        54.545455\n",
       "1   Adult        40.214477\n",
       "2  Senior        38.805970"
      ]
     },
     "execution_count": 167,
     "metadata": {},
     "output_type": "execute_result"
    }
   ],
   "source": [
    "young_cr   = young_acceptcamp.shape[0] / young_camp.shape[0] * 100\n",
    "adult_cr   = adult_acceptcamp.shape[0] / adult_camp.shape[0] * 100\n",
    "senior_cr  = senior_acceptcamp.shape[0] / senior_camp.shape[0] * 100\n",
    "success    = {'Age': ['Young', 'Adult', 'Senior'],\n",
    "              'Conversion Rate': [young_cr, adult_cr, senior_cr]}\n",
    "\n",
    "success_cr = pd.DataFrame(success)\n",
    "success_cr"
   ]
  },
  {
   "cell_type": "code",
   "execution_count": 168,
   "metadata": {},
   "outputs": [
    {
     "data": {
      "image/png": "[encoded data removed]",
      "text/plain": [
       "<Figure size 1200x600 with 1 Axes>"
      ]
     },
     "metadata": {},
     "output_type": "display_data"
    }
   ],
   "source": [
    "plt.figure(figsize=(12,6))\n",
    "ax = sns.barplot(x = 'Age', y = 'Conversion Rate', data = success_cr, palette='viridis')\n",
    "plt.title('Campaign Success Rate', weight='bold', fontsize=20)\n",
    "plt.xlabel('Age Group', fontsize=12, weight='bold')\n",
    "plt.ylabel('Conversion Rate', fontsize=12, weight='bold')\n",
    "plt.ylim(0, 100)\n",
    "plt.xticks(fontsize=10)\n",
    "plt.yticks(fontsize=10)\n",
    "plt.grid(axis='y', linestyle='--')\n",
    "plt.bar_label(ax.containers[0], fmt='%.2f%%')\n",
    "plt.show()"
   ]
  },
  {
   "attachments": {},
   "cell_type": "markdown",
   "metadata": {},
   "source": [
    "Young group are more likely to make a purchase when receiving a campaign. To maximize campaign success, it is crucial to focus on targeting and tailoring marketing efforts towards young individuals. This could involve creating appealing and engaging campaigns that resonate with their preferences and interests. Both Adult and Senior group has similar rates, it is important to evaluate the existing strategies and identify potential improvement."
   ]
  },
  {
   "cell_type": "code",
   "execution_count": null,
   "metadata": {},
   "outputs": [],
   "source": []
  }
 ],
 "metadata": {
  "kernelspec": {
   "display_name": "Python 3",
   "language": "python",
   "name": "python3"
  },
  "language_info": {
   "codemirror_mode": {
    "name": "ipython",
    "version": 3
   },
   "file_extension": ".py",
   "mimetype": "text/x-python",
   "name": "python",
   "nbconvert_exporter": "python",
   "pygments_lexer": "ipython3",
   "version": "3.11.3"
  },
  "orig_nbformat": 4
 },
 "nbformat": 4,
 "nbformat_minor": 2
}
